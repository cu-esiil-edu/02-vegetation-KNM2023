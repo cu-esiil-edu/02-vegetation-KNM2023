{
  "cells": [
    {
      "cell_type": "markdown",
      "id": "c7c8b08d-b0a5-4721-ba2d-524404ebc885",
      "metadata": {},
      "source": [
        "# Water Rights Restored to the Gila River\n",
        "\n",
        "The impacts of irrigation on vegetation health in the Gila River Valley\n",
        "\n",
        "Elsa Culler  \n",
        "Nate Quarderer  \n",
        "2025-07-09\n",
        "\n",
        "# STEP 0: Set up\n",
        "\n",
        "To get started on this notebook, you’ll need to restore any variables\n",
        "from previous notebooks to your workspace. To save time and memory, make\n",
        "sure to specify which variables you want to load."
      ]
    },
    {
      "cell_type": "code",
      "execution_count": null,
      "id": "c86c78de",
      "metadata": {},
      "outputs": [],
      "source": [
        "%store -r ndvi_da boundary_gdf ndvi_paths"
      ]
    },
    {
      "cell_type": "markdown",
      "id": "86bdeb98-1c0b-49b5-8abe-647e620599a1",
      "metadata": {},
      "source": [
        "You will also need to import any libraries you are using in this\n",
        "notebook, since they won’t carry over from the previous notebook:"
      ]
    },
    {
      "cell_type": "code",
      "execution_count": null,
      "id": "d677400d",
      "metadata": {},
      "outputs": [],
      "source": [
        "# Import libraries\n",
        "import json\n",
        "from glob import glob\n",
        "import pandas as pd\n",
        "import hvplot.pandas\n",
        "import geopandas as gpd\n",
        "import holoviews as hv\n",
        "import earthpy\n",
        "import hvplot.xarray\n",
        "import rioxarray as rxr\n",
        "import xarray as xr\n",
        "import multiprocessing\n",
        "multiprocessing.cpu_count()"
      ]
    },
    {
      "cell_type": "markdown",
      "id": "55926bd8-1d87-40ef-8b1f-e53932a91aba",
      "metadata": {},
      "source": [
        "# STEP 3: Plot NDVI\n",
        "\n",
        "<link rel=\"stylesheet\" type=\"text/css\" href=\"./assets/styles.css\"><div class=\"callout callout-style-default callout-titled callout-task\"><div class=\"callout-header\"><div class=\"callout-icon-container\"><i class=\"callout-icon\"></i></div><div class=\"callout-title-container flex-fill\">Try It: Plot the change in NDVI spatially</div></div><div class=\"callout-body-container callout-body\"><p>Complete the following:</p>\n",
        "<ul>\n",
        "<li>Select data from before the <span data-__quarto_custom=\"true\"\n",
        "data-__quarto_custom_type=\"Shortcode\"\n",
        "data-__quarto_custom_context=\"Inline\"\n",
        "data-__quarto_custom_id=\"1\"></span> (<span data-__quarto_custom=\"true\"\n",
        "data-__quarto_custom_type=\"Shortcode\"\n",
        "data-__quarto_custom_context=\"Inline\"\n",
        "data-__quarto_custom_id=\"2\"></span> to <span data-__quarto_custom=\"true\"\n",
        "data-__quarto_custom_type=\"Shortcode\"\n",
        "data-__quarto_custom_context=\"Inline\"\n",
        "data-__quarto_custom_id=\"3\"></span>)</li>\n",
        "<li>Take the temporal mean (over the <strong>date</strong>, not\n",
        "spatially)</li>\n",
        "<li>Get the NDVI variable (should be a DataArray, not a Dataset)</li>\n",
        "<li>Repeat for the data from after the <span data-__quarto_custom=\"true\"\n",
        "data-__quarto_custom_type=\"Shortcode\"\n",
        "data-__quarto_custom_context=\"Inline\"\n",
        "data-__quarto_custom_id=\"4\"></span> (<span data-__quarto_custom=\"true\"\n",
        "data-__quarto_custom_type=\"Shortcode\"\n",
        "data-__quarto_custom_context=\"Inline\"\n",
        "data-__quarto_custom_id=\"5\"></span> to <span data-__quarto_custom=\"true\"\n",
        "data-__quarto_custom_type=\"Shortcode\"\n",
        "data-__quarto_custom_context=\"Inline\"\n",
        "data-__quarto_custom_id=\"6\"></span>)</li>\n",
        "<li>Subtract the pre-event data <strong>from</strong> the post-event\n",
        "data</li>\n",
        "<li>Plot the result using a <strong>diverging</strong> color map like\n",
        "<code>cmap=plt.cm.PiYG</code></li>\n",
        "</ul>\n",
        "<p>There are different types of color maps for different types of data.\n",
        "In this case, we want decreases to be a different color from increases,\n",
        "so we should use a <strong>diverging</strong> color map. Check out\n",
        "available colormaps in the <a\n",
        "href=\"https://matplotlib.org/stable/tutorials/colors/colormaps.html\">matplotlib\n",
        "documentation</a>.</p></div></div>\n",
        "\n",
        "<link rel=\"stylesheet\" type=\"text/css\" href=\"./assets/styles.css\"><div class=\"callout callout-style-default callout-titled callout-extra\"><div class=\"callout-header\"><div class=\"callout-icon-container\"><i class=\"callout-icon\"></i></div><div class=\"callout-title-container flex-fill\">Looking for an Extra Challenge?</div></div><div class=\"callout-body-container callout-body\"><p>For an extra challenge, add the <span data-__quarto_custom=\"true\"\n",
        "data-__quarto_custom_type=\"Shortcode\"\n",
        "data-__quarto_custom_context=\"Inline\"\n",
        "data-__quarto_custom_id=\"7\"></span> boundary to the plot.</p></div></div>"
      ]
    },
    {
      "cell_type": "code",
      "execution_count": null,
      "id": "9d312763",
      "metadata": {},
      "outputs": [],
      "source": []
    },
    {
      "cell_type": "markdown",
      "id": "2721e704-e806-43ff-afab-3c7db03fe4a1",
      "metadata": {},
      "source": [
        "# STEP -1: Wrap up\n",
        "\n",
        "Don’t forget to store your variables so you can use them in other\n",
        "notebooks! Replace `var1` and `var2` with the variable you want to save,\n",
        "separated by spaces."
      ]
    },
    {
      "cell_type": "markdown",
      "id": "48478ce4-1dbb-47d3-a69b-1a3107e8f752",
      "metadata": {},
      "source": [
        "Finally, be sure to `Restart` and `Run all` to make sure your notebook\n",
        "works all the way through!"
      ]
    }
  ],
  "metadata": {
    "kernelspec": {
      "display_name": "base",
      "language": "python",
      "name": "base"
    },
    "language_info": {
      "codemirror_mode": {
        "name": "ipython",
        "version": 3
      },
      "file_extension": ".py",
      "mimetype": "text/x-python",
      "name": "python",
      "nbconvert_exporter": "python",
      "pygments_lexer": "ipython3",
      "version": "3.11.6"
    }
  },
  "nbformat": 4,
  "nbformat_minor": 5
}
